{
 "cells": [
  {
   "cell_type": "markdown",
   "metadata": {},
   "source": [
    "**[SQL Course Home Page](https://www.kaggle.com/learn/SQL)**\n",
    "\n",
    "---\n"
   ]
  },
  {
   "cell_type": "markdown",
   "metadata": {},
   "source": [
    "# Intro\n",
    "\n",
    "You've built up your SQL skills enough that the remaining hands-on exercises will use different datasets than you see in the explanations. If you need to familiarize with a new dataset, you can run a couple of `SELECT` queries to extract and review the data you need. \n",
    "\n",
    "The next exercises are also more challenging than what you've done so far. Don't worry, you are ready for it.\n",
    "\n",
    "Run the code in the following cell to get everything set up:"
   ]
  },
  {
   "cell_type": "code",
   "execution_count": 1,
   "metadata": {},
   "outputs": [
    {
     "name": "stdout",
     "output_type": "stream",
     "text": [
      "Using Kaggle's public dataset BigQuery integration.\n",
      "Using Kaggle's public dataset BigQuery integration.\n"
     ]
    }
   ],
   "source": [
    "# Set up feedack system\n",
    "from learntools.core import binder\n",
    "binder.bind(globals())\n",
    "from learntools.sql.ex4 import *\n",
    "\n",
    "# import package with helper functions \n",
    "import bq_helper\n",
    "\n",
    "# create a helper object for this dataset\n",
    "education_data = bq_helper.BigQueryHelper(active_project=\"bigquery-public-data\",\n",
    "                                          dataset_name=\"world_bank_intl_education\")"
   ]
  },
  {
   "cell_type": "markdown",
   "metadata": {},
   "source": [
    "Then write the code to answer the questions below"
   ]
  },
  {
   "cell_type": "markdown",
   "metadata": {},
   "source": [
    "# Questions\n",
    "\n",
    "## 1) Which countries spend the largest fraction of GDP on education?\n",
    "\n",
    "The World Bank has made tons of interesting education data available through BigQuery. Run the following cell to see the first few rows of the table."
   ]
  },
  {
   "cell_type": "code",
   "execution_count": 2,
   "metadata": {},
   "outputs": [
    {
     "data": {
      "text/html": [
       "<div>\n",
       "<style scoped>\n",
       "    .dataframe tbody tr th:only-of-type {\n",
       "        vertical-align: middle;\n",
       "    }\n",
       "\n",
       "    .dataframe tbody tr th {\n",
       "        vertical-align: top;\n",
       "    }\n",
       "\n",
       "    .dataframe thead th {\n",
       "        text-align: right;\n",
       "    }\n",
       "</style>\n",
       "<table border=\"1\" class=\"dataframe\">\n",
       "  <thead>\n",
       "    <tr style=\"text-align: right;\">\n",
       "      <th></th>\n",
       "      <th>country_name</th>\n",
       "      <th>country_code</th>\n",
       "      <th>indicator_name</th>\n",
       "      <th>indicator_code</th>\n",
       "      <th>value</th>\n",
       "      <th>year</th>\n",
       "    </tr>\n",
       "  </thead>\n",
       "  <tbody>\n",
       "    <tr>\n",
       "      <td>0</td>\n",
       "      <td>Samoa</td>\n",
       "      <td>WSM</td>\n",
       "      <td>Population of the official age for pre-primary...</td>\n",
       "      <td>SP.PRE.TOTL.MA.IN</td>\n",
       "      <td>5131.000000</td>\n",
       "      <td>2016</td>\n",
       "    </tr>\n",
       "    <tr>\n",
       "      <td>1</td>\n",
       "      <td>Samoa</td>\n",
       "      <td>WSM</td>\n",
       "      <td>Population of the official age for the last gr...</td>\n",
       "      <td>SP.PRM.GRAD.MA</td>\n",
       "      <td>2523.000000</td>\n",
       "      <td>2016</td>\n",
       "    </tr>\n",
       "    <tr>\n",
       "      <td>2</td>\n",
       "      <td>Sao Tome and Principe</td>\n",
       "      <td>STP</td>\n",
       "      <td>Percentage of female teachers in primary educa...</td>\n",
       "      <td>SE.PRM.TCAQ.FE.ZS</td>\n",
       "      <td>35.623001</td>\n",
       "      <td>2016</td>\n",
       "    </tr>\n",
       "    <tr>\n",
       "      <td>3</td>\n",
       "      <td>Sao Tome and Principe</td>\n",
       "      <td>STP</td>\n",
       "      <td>Population of the official age for the last gr...</td>\n",
       "      <td>SP.PRM.GRAD.TO</td>\n",
       "      <td>5064.000000</td>\n",
       "      <td>2016</td>\n",
       "    </tr>\n",
       "    <tr>\n",
       "      <td>4</td>\n",
       "      <td>Seychelles</td>\n",
       "      <td>SYC</td>\n",
       "      <td>Population, female (% of total)</td>\n",
       "      <td>SP.POP.TOTL.FE.ZS</td>\n",
       "      <td>50.645767</td>\n",
       "      <td>2016</td>\n",
       "    </tr>\n",
       "  </tbody>\n",
       "</table>\n",
       "</div>"
      ],
      "text/plain": [
       "            country_name country_code  \\\n",
       "0                  Samoa          WSM   \n",
       "1                  Samoa          WSM   \n",
       "2  Sao Tome and Principe          STP   \n",
       "3  Sao Tome and Principe          STP   \n",
       "4             Seychelles          SYC   \n",
       "\n",
       "                                      indicator_name     indicator_code  \\\n",
       "0  Population of the official age for pre-primary...  SP.PRE.TOTL.MA.IN   \n",
       "1  Population of the official age for the last gr...     SP.PRM.GRAD.MA   \n",
       "2  Percentage of female teachers in primary educa...  SE.PRM.TCAQ.FE.ZS   \n",
       "3  Population of the official age for the last gr...     SP.PRM.GRAD.TO   \n",
       "4                    Population, female (% of total)  SP.POP.TOTL.FE.ZS   \n",
       "\n",
       "         value  year  \n",
       "0  5131.000000  2016  \n",
       "1  2523.000000  2016  \n",
       "2    35.623001  2016  \n",
       "3  5064.000000  2016  \n",
       "4    50.645767  2016  "
      ]
     },
     "execution_count": 2,
     "metadata": {},
     "output_type": "execute_result"
    }
   ],
   "source": [
    "education_data.head('international_education')"
   ]
  },
  {
   "cell_type": "markdown",
   "metadata": {},
   "source": [
    "The indicator code describes what type of data is shown in a given row.  \n",
    "\n",
    "One interesting indicator code is `SE.XPD.TOTL.GD.ZS`. The name says this is `Government expenditure on education as % of GDP (%)`.\n",
    "\n",
    "Write a query to get a dataframe returning **average value of these rows for each country in the dataset between the years 2010-2017** (including 2010 and 2017 in the average). \n",
    "\n",
    "Requirements:\n",
    "- Your results should have the country name rather than the country code. You will have one row for each country\n",
    "- The aggregation for an average is **AVG**.  Use the name `avg_ed_spending_pct` for the column created by this aggregation\n",
    "- Order the results so the countries that spend the largest fraction of GDP on education show up first.\n",
    "\n",
    "In case it's useful to see a sample query, here's a query you saw in the tutorial (using a different database):\n",
    "```\n",
    "# query to find how many accidents happen each day of the week\n",
    "query = \"\"\"SELECT COUNT(consecutive_number) num_accidents, \n",
    "                  EXTRACT(DAYOFWEEK FROM timestamp_of_crash)\n",
    "            FROM `bigquery-public-data.nhtsa_traffic_fatalities.accident_2016`\n",
    "            GROUP BY EXTRACT(DAYOFWEEK FROM timestamp_of_crash)\n",
    "            ORDER BY COUNT(consecutive_number) DESC\n",
    "        \"\"\"\n",
    "accidents_by_day = accidents.query_to_pandas_safe(query)\n",
    "```"
   ]
  },
  {
   "cell_type": "code",
   "execution_count": 3,
   "metadata": {},
   "outputs": [
    {
     "name": "stdout",
     "output_type": "stream",
     "text": [
      "            country_name  avg_ed_spending_pct\n",
      "0                   Cuba            12.837270\n",
      "1  Micronesia, Fed. Sts.            12.467750\n",
      "2        Solomon Islands            10.001080\n",
      "3                Moldova             8.372153\n",
      "4                Namibia             8.349610\n"
     ]
    },
    {
     "data": {
      "application/javascript": [
       "parent.postMessage({\"jupyterEvent\": \"custom.exercise_interaction\", \"data\": {\"outcomeType\": 1, \"valueTowardsCompletion\": 0.5, \"interactionType\": 1, \"questionType\": 2, \"learnTutorialId\": 80, \"questionId\": \"1_EducationSpending\", \"learnToolsVersion\": \"0.3.2\", \"failureMessage\": \"\", \"exceptionClass\": \"\", \"trace\": \"\"}}, \"*\")"
      ],
      "text/plain": [
       "<IPython.core.display.Javascript object>"
      ]
     },
     "metadata": {},
     "output_type": "display_data"
    },
    {
     "data": {
      "text/markdown": [
       "<span style=\"color:#33cc33\">Correct</span>"
      ],
      "text/plain": [
       "Correct"
      ]
     },
     "metadata": {},
     "output_type": "display_data"
    }
   ],
   "source": [
    "# Your Code Here\n",
    "\n",
    "country_spend_pct_query = \"\"\"\n",
    "                          SELECT country_name, AVG(value) AS avg_ed_spending_pct\n",
    "                          FROM `bigquery-public-data.world_bank_intl_education.international_education`\n",
    "                          WHERE indicator_code = 'SE.XPD.TOTL.GD.ZS' and year >= 2010 and year <= 2017\n",
    "                          GROUP BY country_name\n",
    "                          ORDER BY avg_ed_spending_pct DESC\n",
    "                          \"\"\"\n",
    "\n",
    "country_spending_results = education_data.query_to_pandas_safe(country_spend_pct_query)\n",
    "\n",
    "print(country_spending_results.head())\n",
    "q_1.check()"
   ]
  },
  {
   "cell_type": "code",
   "execution_count": 4,
   "metadata": {},
   "outputs": [],
   "source": [
    "# q_1.hint()\n",
    "# q_1.solution()"
   ]
  },
  {
   "cell_type": "markdown",
   "metadata": {},
   "source": [
    "## 2) Identifying Interesting Codes to Explore\n",
    "The last question started by telling you to focus on rows with the code `SE.XPD.TOTL.GD.ZS`. But how would you find interesting indicator codes to explore?\n",
    "\n",
    "There are 1000s of codes in the dataset, so it would time consuming to review them all. But many codes are available for only a few countries. When browsing the options for different codes, you might restrict yourself to codes that are reported by many countries.\n",
    "\n",
    "Write the query below that selects the indicator code and indicator name for all codes with at least 175 rows in the year 2016.\n",
    "\n",
    "Requirements:\n",
    "- One row in your results per code\n",
    "- The columns in your results should be called `indicator_code`, `indicator_name` and `num_rows`.\n",
    "- Only select codes with 175 or more rows in the raw database (exactly 175 rows would be included)\n",
    "- To get both the `indicator_code` and `indicator_name` in your resulting DataFrame, you need to include both in your select statement (in addition to a `COUNT` aggregation). This in turn requires you include both in your `GROUP BY` clause.\n",
    "- Order from results most frequent to least frequent"
   ]
  },
  {
   "cell_type": "code",
   "execution_count": 5,
   "metadata": {},
   "outputs": [
    {
     "name": "stdout",
     "output_type": "stream",
     "text": [
      "      indicator_code                   indicator_name  num_rows\n",
      "0        SP.POP.TOTL                Population, total       232\n",
      "1        SP.POP.GROW     Population growth (annual %)       232\n",
      "2     IT.NET.USER.P2  Internet users (per 100 people)       223\n",
      "3  SP.POP.TOTL.FE.ZS  Population, female (% of total)       213\n",
      "4  SP.POP.0014.FE.IN    Population, ages 0-14, female       213\n"
     ]
    },
    {
     "data": {
      "application/javascript": [
       "parent.postMessage({\"jupyterEvent\": \"custom.exercise_interaction\", \"data\": {\"outcomeType\": 1, \"valueTowardsCompletion\": 0.5, \"interactionType\": 1, \"questionType\": 2, \"learnTutorialId\": 80, \"questionId\": \"2_FindInterestingCodes\", \"learnToolsVersion\": \"0.3.2\", \"failureMessage\": \"\", \"exceptionClass\": \"\", \"trace\": \"\"}}, \"*\")"
      ],
      "text/plain": [
       "<IPython.core.display.Javascript object>"
      ]
     },
     "metadata": {},
     "output_type": "display_data"
    },
    {
     "data": {
      "text/markdown": [
       "<span style=\"color:#33cc33\">Correct</span>"
      ],
      "text/plain": [
       "Correct"
      ]
     },
     "metadata": {},
     "output_type": "display_data"
    }
   ],
   "source": [
    "# Your Code Here\n",
    "code_count_query =  \"\"\"\n",
    "                    SELECT indicator_code, indicator_name, COUNT(*) AS num_rows\n",
    "                    FROM `bigquery-public-data.world_bank_intl_education.international_education`\n",
    "                    WHERE year = 2016\n",
    "                    GROUP BY indicator_code,indicator_name\n",
    "                    HAVING num_rows >= 175\n",
    "                    ORDER BY num_rows DESC\n",
    "                    \"\"\"\n",
    "\n",
    "code_count_results = education_data.query_to_pandas_safe(code_count_query)\n",
    "\n",
    "print(code_count_results.head())\n",
    "q_2.check()\n"
   ]
  },
  {
   "cell_type": "code",
   "execution_count": 6,
   "metadata": {},
   "outputs": [],
   "source": [
    "#q_2.hint()\n",
    "#q_2.solution()"
   ]
  },
  {
   "cell_type": "markdown",
   "metadata": {},
   "source": [
    "---\n",
    "# Keep Going\n",
    "**[Click here](https://www.kaggle.com/dansbecker/as-with)** to learn how *WITH-AS* clauses  can clean up your code and help you construct more complex queries.\n"
   ]
  },
  {
   "cell_type": "markdown",
   "metadata": {},
   "source": [
    "---\n",
    "**[SQL Course Home Page](https://www.kaggle.com/learn/SQL)**\n",
    "\n"
   ]
  }
 ],
 "metadata": {
  "kernelspec": {
   "display_name": "Python 3",
   "language": "python",
   "name": "python3"
  },
  "language_info": {
   "codemirror_mode": {
    "name": "ipython",
    "version": 3
   },
   "file_extension": ".py",
   "mimetype": "text/x-python",
   "name": "python",
   "nbconvert_exporter": "python",
   "pygments_lexer": "ipython3",
   "version": "3.6.6"
  }
 },
 "nbformat": 4,
 "nbformat_minor": 1
}
